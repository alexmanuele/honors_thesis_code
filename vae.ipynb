{
 "cells": [
  {
   "cell_type": "code",
   "execution_count": 11,
   "metadata": {},
   "outputs": [],
   "source": [
    "from keras.layers import Lambda, Input, Dense\n",
    "from keras.models import Model\n",
    "from keras.datasets import mnist\n",
    "from keras.losses import mse, binary_crossentropy\n",
    "from keras import utils\n",
    "from keras import backend as K\n",
    "from keras import layers\n",
    "from keras import objectives\n",
    "from keras import optimizers\n",
    "from keras.callbacks import EarlyStopping\n",
    "\n",
    "from sklearn.feature_selection import mutual_info_classif\n",
    "\n",
    "import numpy as np\n",
    "import pandas as pd\n",
    "import matplotlib.pyplot as plt\n",
    "import argparse\n",
    "import os\n",
    "\n",
    "from IPython.display import clear_output\n",
    "\n",
    "from sklearn.metrics import classification_report\n",
    "from skimage import data, img_as_float\n",
    "from skimage.util import random_noise\n",
    "\n",
    "def warn(*args, **kwargs):\n",
    "    pass\n",
    "import warnings\n",
    "warnings.warn = warn\n",
    "\n",
    "from sklearn.feature_selection import SelectKBest"
   ]
  },
  {
   "cell_type": "code",
   "execution_count": 38,
   "metadata": {},
   "outputs": [],
   "source": [
    "################# methods for shaping our data ##############\n",
    "def reshape_x(X, input_shape):\n",
    "    X = np.reshape(X, [-1, input_shape])\n",
    "    X = X.astype('float32') / 255\n",
    "    return X\n",
    "def reshape_y(y, num_categories):\n",
    "    y = utils.to_categorical(y, num_categories)\n",
    "    return y\n",
    "###########################################################\n",
    "\n",
    "sub = pd.read_csv('sub_best.csv', index_col=0).values\n",
    "sup = pd.read_csv('sup_best.csv', index_col=0).values\n",
    "\n",
    "X = np.concatenate((sub, sup))\n",
    "\n",
    "y = [0] * 30 + [1] * 30\n",
    "y = np.asarray(y)\n",
    "\n",
    "X_new = SelectKBest(mutual_info_classif, k=200).fit_transform(X, y)\n",
    "\n",
    "X_new = reshape_x(X_new, 200)\n",
    "\n",
    "\n"
   ]
  },
  {
   "cell_type": "code",
   "execution_count": 64,
   "metadata": {},
   "outputs": [],
   "source": [
    "#########################VAE Model##############################\n",
    "def sampling(args):\n",
    "    z_mean, z_log_var = args\n",
    "    batch = K.shape(z_mean)[0]\n",
    "    dim = K.int_shape(z_mean)[1]\n",
    "    # by default, random_normal has mean=0 and std=1.0\n",
    "    epsilon = K.random_normal(shape=(batch, dim))\n",
    "    return z_mean + K.exp(0.5 * z_log_var) * epsilon\n",
    "\n",
    "#VAE loss is sum of reconstruction loss and KL divergence\n",
    "\n",
    "#The optimizer used in VAE functions below.\n",
    "op = optimizers.RMSprop(lr=0.0001, rho=0.9, epsilon=None, decay=0.0)\n",
    "\n",
    "#Used to create new models\n",
    "def reset_weights(model):\n",
    "    session = K.get_session()\n",
    "    for layer in model.layers: \n",
    "        if hasattr(layer, 'kernel_initializer'):\n",
    "            layer.kernel.initializer.run(session=session)\n",
    "\n",
    "\n",
    "def create_vae(input_size, batch_size=6):\n",
    "    intermediate_dim=100\n",
    "    latent_dim = 2\n",
    "    vae_inputs = Input(shape=(200,)) #shape is batchsize * image size\n",
    "    X = Dense(intermediate_dim, activation='relu')(vae_inputs)\n",
    "    z_mean = Dense(latent_dim, name='z_mean')(X)\n",
    "    z_log_var = Dense(latent_dim, name='z_log_var')(X)\n",
    "    #Use the parameter trick\n",
    "    z = Lambda(sampling, output_shape=(latent_dim,), name='z')([z_mean, z_log_var])\n",
    "\n",
    "    #Decoder\n",
    "    decoder_X = Dense(intermediate_dim, activation='relu')\n",
    "    decoder_mean = Dense(input_size, activation='sigmoid')\n",
    "    X_decoded = decoder_X(z)\n",
    "    X_decoded_mean = decoder_mean(X_decoded)\n",
    "\n",
    "    #Create the end-to-end VAE\n",
    "    vae = Model(vae_inputs, X_decoded_mean)\n",
    "    #create encoder\n",
    "    encoder = Model(vae_inputs, z_mean)\n",
    "    #create generator\n",
    "    decoder_input = Input(shape=(latent_dim,))\n",
    "    _X_decoded = decoder_X(decoder_input)\n",
    "    _X_decoded_mean = decoder_mean(_X_decoded)\n",
    "    generator = Model(decoder_input, _X_decoded_mean)\n",
    "    \n",
    "    def vae_loss(x, x_decoded_mean):\n",
    "        xent_loss = objectives.binary_crossentropy(x, x_decoded_mean)\n",
    "        kl_loss = -0.5 * K.mean(1 + z_log_var - K.square(z_mean) - K.exp(z_log_var),\n",
    "                            axis=-1)\n",
    "        return xent_loss + kl_loss\n",
    "    return {'vae':vae, 'encoder':encoder, 'generator':generator, 'loss': vae_loss}\n",
    "            \n",
    "\n",
    "\n",
    "#in run_vae, vae_models param should be a dict containing the vae, encoder, and generator\n",
    "def run_vae(vae_models, X, y, batch_size=6, epochs=30, manifold_std=5, \n",
    "               num_samples=50):\n",
    "    \n",
    "    for model in ('vae', 'encoder', 'generator'):\n",
    "        reset_weights(vae_models[model])\n",
    "    \n",
    "    vae_models['vae'].compile(optimizer=op, loss=vae_models['loss'])\n",
    "    vae_models['vae'].fit(X,X, shuffle=True, epochs=epochs, \n",
    "            batch_size=batch_size, validation_data=(y,y),\n",
    "            callbacks = [EarlyStopping('val_loss', patience=4, restore_best_weights=True)])\n",
    "    \n",
    "    #clear_output()\n",
    "    \n",
    "    synthetic_data = np.empty([num_samples, 200])\n",
    "    dev=[-manifold_std, manifold_std]\n",
    "    for i in range (num_zeros):\n",
    "        xi = np.random.random_sample() * np.random.choice(dev)\n",
    "        yi = np.random.random_sample() * np.random.choice(dev)\n",
    "        z_sample = np.array([[xi,yi]])\n",
    "        x_decoded = vae_models['generator'].predict(z_sample)\n",
    "        synthetic_data[i] = x_decoded\n",
    "    return synthetic_data"
   ]
  },
  {
   "cell_type": "code",
   "execution_count": 39,
   "metadata": {},
   "outputs": [],
   "source": [
    "def gaussian_expansion(x_data,y, magnitude, sigma, k):\n",
    "    mu = 0.0\n",
    "    num_samples = x_data.shape[0]\n",
    "    x_noised = []\n",
    "    for i in range(magnitude):\n",
    "        noise = np.random.normal(mu, sigma, x_data.shape)\n",
    "        x_noised.append(x_data + noise)\n",
    "        \n",
    "    y_new = [y] * (magnitude +1)\n",
    "    y_new = np.asarray(y_new).flatten()\n",
    "    print(y_new.shape)\n",
    "    x_noised = np.asarray(x_noised)\n",
    "    x_noised = x_noised.reshape(magnitude*x_data.shape[0],k)\n",
    "    print(x_noised.shape)\n",
    "    print(x_data.shape)\n",
    "    y_new = enc.transform(np.reshape(y_new, (-1,1)))\n",
    "    new_x = np.concatenate((x_data, x_noised))\n",
    "    \n",
    "    print(y_new.shape)\n",
    "    print(new_x.shape)\n",
    "    return(new_x, y_new)"
   ]
  },
  {
   "cell_type": "code",
   "execution_count": 65,
   "metadata": {},
   "outputs": [],
   "source": [
    "vae = create_vae(200, 1)"
   ]
  },
  {
   "cell_type": "code",
   "execution_count": 62,
   "metadata": {},
   "outputs": [
    {
     "data": {
      "text/plain": [
       "OneHotEncoder(categorical_features=None, categories=None,\n",
       "       dtype=<class 'numpy.float64'>, handle_unknown='error',\n",
       "       n_values=None, sparse=False)"
      ]
     },
     "execution_count": 62,
     "metadata": {},
     "output_type": "execute_result"
    }
   ],
   "source": [
    "from sklearn.preprocessing import OneHotEncoder\n",
    "enc = OneHotEncoder(sparse=False)\n",
    "labels = np.arange(2)\n",
    "labels = np.reshape(labels, (len(labels),1))\n",
    "enc.fit(labels)"
   ]
  },
  {
   "cell_type": "code",
   "execution_count": 54,
   "metadata": {},
   "outputs": [
    {
     "name": "stdout",
     "output_type": "stream",
     "text": [
      "(1560,)\n",
      "(1500, 200)\n",
      "(60, 200)\n",
      "(1560, 2)\n",
      "(1560, 200)\n"
     ]
    }
   ],
   "source": [
    "x_tr, y_tr = gaussian_expansion(X_new, y, 25, 0.005,200)"
   ]
  },
  {
   "cell_type": "code",
   "execution_count": 50,
   "metadata": {},
   "outputs": [
    {
     "name": "stdout",
     "output_type": "stream",
     "text": [
      "(500, 28, 28)\n",
      "(500, 784)\n"
     ]
    }
   ],
   "source": [
    "test = np.zeros((500, 28,28))\n",
    "print(test.shape)\n",
    "test = reshape_x(test, 28*28)\n",
    "print(test.shape)"
   ]
  },
  {
   "cell_type": "code",
   "execution_count": 66,
   "metadata": {
    "scrolled": true
   },
   "outputs": [
    {
     "name": "stdout",
     "output_type": "stream",
     "text": [
      "(1560, 200)\n"
     ]
    },
    {
     "ename": "ValueError",
     "evalue": "Error when checking input: expected input_15 to have shape (200,) but got array with shape (2,)",
     "output_type": "error",
     "traceback": [
      "\u001b[0;31m---------------------------------------------------------------------------\u001b[0m",
      "\u001b[0;31mValueError\u001b[0m                                Traceback (most recent call last)",
      "\u001b[0;32m<ipython-input-66-cdf67fe05657>\u001b[0m in \u001b[0;36m<module>\u001b[0;34m\u001b[0m\n\u001b[1;32m      1\u001b[0m \u001b[0mprint\u001b[0m\u001b[0;34m(\u001b[0m\u001b[0mx_tr\u001b[0m\u001b[0;34m.\u001b[0m\u001b[0mshape\u001b[0m\u001b[0;34m)\u001b[0m\u001b[0;34m\u001b[0m\u001b[0;34m\u001b[0m\u001b[0m\n\u001b[0;32m----> 2\u001b[0;31m \u001b[0msyn_data\u001b[0m \u001b[0;34m=\u001b[0m \u001b[0mrun_vae\u001b[0m\u001b[0;34m(\u001b[0m\u001b[0mvae\u001b[0m\u001b[0;34m,\u001b[0m \u001b[0mX\u001b[0m\u001b[0;34m=\u001b[0m\u001b[0mx_tr\u001b[0m\u001b[0;34m,\u001b[0m \u001b[0my\u001b[0m\u001b[0;34m=\u001b[0m\u001b[0my_tr\u001b[0m\u001b[0;34m,\u001b[0m \u001b[0mnum_samples\u001b[0m\u001b[0;34m=\u001b[0m\u001b[0;36m50\u001b[0m\u001b[0;34m)\u001b[0m\u001b[0;34m\u001b[0m\u001b[0;34m\u001b[0m\u001b[0m\n\u001b[0m",
      "\u001b[0;32m<ipython-input-64-5e20dd966332>\u001b[0m in \u001b[0;36mrun_vae\u001b[0;34m(vae_models, X, y, batch_size, epochs, manifold_std, num_samples)\u001b[0m\n\u001b[1;32m     66\u001b[0m     vae_models['vae'].fit(X,X, shuffle=True, epochs=epochs, \n\u001b[1;32m     67\u001b[0m             \u001b[0mbatch_size\u001b[0m\u001b[0;34m=\u001b[0m\u001b[0mbatch_size\u001b[0m\u001b[0;34m,\u001b[0m \u001b[0mvalidation_data\u001b[0m\u001b[0;34m=\u001b[0m\u001b[0;34m(\u001b[0m\u001b[0my\u001b[0m\u001b[0;34m,\u001b[0m\u001b[0my\u001b[0m\u001b[0;34m)\u001b[0m\u001b[0;34m,\u001b[0m\u001b[0;34m\u001b[0m\u001b[0;34m\u001b[0m\u001b[0m\n\u001b[0;32m---> 68\u001b[0;31m             callbacks = [EarlyStopping('val_loss', patience=4, restore_best_weights=True)])\n\u001b[0m\u001b[1;32m     69\u001b[0m \u001b[0;34m\u001b[0m\u001b[0m\n\u001b[1;32m     70\u001b[0m     \u001b[0;31m#clear_output()\u001b[0m\u001b[0;34m\u001b[0m\u001b[0;34m\u001b[0m\u001b[0;34m\u001b[0m\u001b[0m\n",
      "\u001b[0;32m~/anaconda3/envs/tensorflow_gpuenv/lib/python3.6/site-packages/keras/engine/training.py\u001b[0m in \u001b[0;36mfit\u001b[0;34m(self, x, y, batch_size, epochs, verbose, callbacks, validation_split, validation_data, shuffle, class_weight, sample_weight, initial_epoch, steps_per_epoch, validation_steps, **kwargs)\u001b[0m\n\u001b[1;32m    970\u001b[0m                 \u001b[0mval_x\u001b[0m\u001b[0;34m,\u001b[0m \u001b[0mval_y\u001b[0m\u001b[0;34m,\u001b[0m\u001b[0;34m\u001b[0m\u001b[0;34m\u001b[0m\u001b[0m\n\u001b[1;32m    971\u001b[0m                 \u001b[0msample_weight\u001b[0m\u001b[0;34m=\u001b[0m\u001b[0mval_sample_weight\u001b[0m\u001b[0;34m,\u001b[0m\u001b[0;34m\u001b[0m\u001b[0;34m\u001b[0m\u001b[0m\n\u001b[0;32m--> 972\u001b[0;31m                 batch_size=batch_size)\n\u001b[0m\u001b[1;32m    973\u001b[0m             \u001b[0;32mif\u001b[0m \u001b[0mself\u001b[0m\u001b[0;34m.\u001b[0m\u001b[0m_uses_dynamic_learning_phase\u001b[0m\u001b[0;34m(\u001b[0m\u001b[0;34m)\u001b[0m\u001b[0;34m:\u001b[0m\u001b[0;34m\u001b[0m\u001b[0;34m\u001b[0m\u001b[0m\n\u001b[1;32m    974\u001b[0m                 \u001b[0mval_ins\u001b[0m \u001b[0;34m=\u001b[0m \u001b[0mval_x\u001b[0m \u001b[0;34m+\u001b[0m \u001b[0mval_y\u001b[0m \u001b[0;34m+\u001b[0m \u001b[0mval_sample_weights\u001b[0m \u001b[0;34m+\u001b[0m \u001b[0;34m[\u001b[0m\u001b[0;36m0.\u001b[0m\u001b[0;34m]\u001b[0m\u001b[0;34m\u001b[0m\u001b[0;34m\u001b[0m\u001b[0m\n",
      "\u001b[0;32m~/anaconda3/envs/tensorflow_gpuenv/lib/python3.6/site-packages/keras/engine/training.py\u001b[0m in \u001b[0;36m_standardize_user_data\u001b[0;34m(self, x, y, sample_weight, class_weight, check_array_lengths, batch_size)\u001b[0m\n\u001b[1;32m    749\u001b[0m             \u001b[0mfeed_input_shapes\u001b[0m\u001b[0;34m,\u001b[0m\u001b[0;34m\u001b[0m\u001b[0;34m\u001b[0m\u001b[0m\n\u001b[1;32m    750\u001b[0m             \u001b[0mcheck_batch_axis\u001b[0m\u001b[0;34m=\u001b[0m\u001b[0;32mFalse\u001b[0m\u001b[0;34m,\u001b[0m  \u001b[0;31m# Don't enforce the batch size.\u001b[0m\u001b[0;34m\u001b[0m\u001b[0;34m\u001b[0m\u001b[0m\n\u001b[0;32m--> 751\u001b[0;31m             exception_prefix='input')\n\u001b[0m\u001b[1;32m    752\u001b[0m \u001b[0;34m\u001b[0m\u001b[0m\n\u001b[1;32m    753\u001b[0m         \u001b[0;32mif\u001b[0m \u001b[0my\u001b[0m \u001b[0;32mis\u001b[0m \u001b[0;32mnot\u001b[0m \u001b[0;32mNone\u001b[0m\u001b[0;34m:\u001b[0m\u001b[0;34m\u001b[0m\u001b[0;34m\u001b[0m\u001b[0m\n",
      "\u001b[0;32m~/anaconda3/envs/tensorflow_gpuenv/lib/python3.6/site-packages/keras/engine/training_utils.py\u001b[0m in \u001b[0;36mstandardize_input_data\u001b[0;34m(data, names, shapes, check_batch_axis, exception_prefix)\u001b[0m\n\u001b[1;32m    136\u001b[0m                             \u001b[0;34m': expected '\u001b[0m \u001b[0;34m+\u001b[0m \u001b[0mnames\u001b[0m\u001b[0;34m[\u001b[0m\u001b[0mi\u001b[0m\u001b[0;34m]\u001b[0m \u001b[0;34m+\u001b[0m \u001b[0;34m' to have shape '\u001b[0m \u001b[0;34m+\u001b[0m\u001b[0;34m\u001b[0m\u001b[0;34m\u001b[0m\u001b[0m\n\u001b[1;32m    137\u001b[0m                             \u001b[0mstr\u001b[0m\u001b[0;34m(\u001b[0m\u001b[0mshape\u001b[0m\u001b[0;34m)\u001b[0m \u001b[0;34m+\u001b[0m \u001b[0;34m' but got array with shape '\u001b[0m \u001b[0;34m+\u001b[0m\u001b[0;34m\u001b[0m\u001b[0;34m\u001b[0m\u001b[0m\n\u001b[0;32m--> 138\u001b[0;31m                             str(data_shape))\n\u001b[0m\u001b[1;32m    139\u001b[0m     \u001b[0;32mreturn\u001b[0m \u001b[0mdata\u001b[0m\u001b[0;34m\u001b[0m\u001b[0;34m\u001b[0m\u001b[0m\n\u001b[1;32m    140\u001b[0m \u001b[0;34m\u001b[0m\u001b[0m\n",
      "\u001b[0;31mValueError\u001b[0m: Error when checking input: expected input_15 to have shape (200,) but got array with shape (2,)"
     ]
    }
   ],
   "source": [
    "print(x_tr.shape)\n",
    "syn_data = run_vae(vae, X=x_tr, y=y_tr, num_samples=50)"
   ]
  },
  {
   "cell_type": "code",
   "execution_count": null,
   "metadata": {},
   "outputs": [],
   "source": []
  }
 ],
 "metadata": {
  "kernelspec": {
   "display_name": "Python 3",
   "language": "python",
   "name": "python3"
  },
  "language_info": {
   "codemirror_mode": {
    "name": "ipython",
    "version": 3
   },
   "file_extension": ".py",
   "mimetype": "text/x-python",
   "name": "python",
   "nbconvert_exporter": "python",
   "pygments_lexer": "ipython3",
   "version": "3.6.7"
  }
 },
 "nbformat": 4,
 "nbformat_minor": 2
}
